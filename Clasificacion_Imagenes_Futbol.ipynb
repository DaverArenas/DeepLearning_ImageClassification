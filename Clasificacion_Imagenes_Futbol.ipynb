{
  "nbformat": 4,
  "nbformat_minor": 0,
  "metadata": {
    "colab": {
      "name": "Clasificacion_Imagenes_Futbol",
      "provenance": [],
      "collapsed_sections": [],
      "include_colab_link": true
    },
    "kernelspec": {
      "display_name": "Python 3",
      "language": "python",
      "name": "python3"
    },
    "language_info": {
      "codemirror_mode": {
        "name": "ipython",
        "version": 3
      },
      "file_extension": ".py",
      "mimetype": "text/x-python",
      "name": "python",
      "nbconvert_exporter": "python",
      "pygments_lexer": "ipython3",
      "version": "3.7.0"
    },
    "accelerator": "GPU"
  },
  "cells": [
    {
      "cell_type": "markdown",
      "metadata": {
        "id": "view-in-github",
        "colab_type": "text"
      },
      "source": [
        "<a href=\"https://colab.research.google.com/github/DaverArenas/DeepLearning_ImageClassification/blob/main/Clasificacion_Imagenes_Futbol.ipynb\" target=\"_parent\"><img src=\"https://colab.research.google.com/assets/colab-badge.svg\" alt=\"Open In Colab\"/></a>"
      ]
    },
    {
      "cell_type": "code",
      "metadata": {
        "id": "H9z4cj93hPP4"
      },
      "source": [
        "##IMPORTAMOS LAS LIBRERIAS NECESARIAS\n",
        "import matplotlib.pyplot as plt\n",
        "import numpy as np\n",
        "import pandas as pd\n",
        "import tensorflow as tf\n",
        "\n",
        "from sklearn.metrics import accuracy_score, precision_score, recall_score\n",
        "from sklearn.model_selection import train_test_split\n",
        "from tensorflow.keras import layers, losses\n",
        "from tensorflow.keras.datasets import mnist,fashion_mnist\n",
        "from tensorflow.keras.models import Model\n",
        "from tensorflow.keras.layers import Input,Flatten, Dense, Reshape,Conv2D,MaxPooling2D,Conv2DTranspose\n",
        "from tensorflow.keras.models import Sequential\n",
        "import os"
      ],
      "execution_count": 2,
      "outputs": []
    },
    {
      "cell_type": "markdown",
      "metadata": {
        "id": "LRRG4G62ixb8"
      },
      "source": [
        "## Cargando los datos\n",
        "- Acá cada imagen tiene un tamaño de 28x28, lo que significa una entrada de 784"
      ]
    },
    {
      "cell_type": "code",
      "source": [
        "##CONECTAMOS CON GOOGLE DRIVE\n",
        "from google.colab import drive\n",
        "drive.mount('/content/drive')"
      ],
      "metadata": {
        "colab": {
          "base_uri": "https://localhost:8080/"
        },
        "id": "sSYLK6I2Cw8E",
        "outputId": "8bda3efb-c3b6-4b71-e731-8ac676ceffbb"
      },
      "execution_count": 3,
      "outputs": [
        {
          "output_type": "stream",
          "name": "stdout",
          "text": [
            "Drive already mounted at /content/drive; to attempt to forcibly remount, call drive.mount(\"/content/drive\", force_remount=True).\n"
          ]
        }
      ]
    },
    {
      "cell_type": "code",
      "source": [
        "#DESCOMPRIMIMOS LAS CARPETAS QUE CONTIENEN LOS ARCHIVOS. EN ESTE CASO TENEMOS UN FOLDER POR CATEGORIA\n",
        "!unzip '/content/drive/MyDrive/Especializacion BigData EIA/AnaliticadeDatosBIBD/DatasetsAnalytics/CristianoRonaldo.zip'"
      ],
      "metadata": {
        "id": "uP4NLKjIGdr3"
      },
      "execution_count": null,
      "outputs": []
    },
    {
      "cell_type": "code",
      "source": [
        "!unzip '/content/drive/MyDrive/Especializacion BigData EIA/AnaliticadeDatosBIBD/DatasetsAnalytics/LionelMessi.zip'"
      ],
      "metadata": {
        "id": "cIcHiIzWGer4"
      },
      "execution_count": null,
      "outputs": []
    },
    {
      "cell_type": "code",
      "source": [
        "##Do not run this! THIS WILL DELETE THE UNZIPED FOLDER \n",
        "import shutil\n",
        "shutil.rmtree(\"/content/train\")"
      ],
      "metadata": {
        "id": "lYUeffcRb70H"
      },
      "execution_count": 68,
      "outputs": []
    },
    {
      "cell_type": "code",
      "source": [
        "x = 0\n",
        "for filename in os.listdir('/content/LionelMessi'):\n",
        "  print(filename)\n",
        "  x += 1\n",
        "\n",
        "print(x)"
      ],
      "metadata": {
        "id": "HLOXdxQwad1j"
      },
      "execution_count": null,
      "outputs": []
    },
    {
      "cell_type": "code",
      "source": [
        "import os\n",
        "path_messi = '/content/LionelMessi'\n",
        "path_cr7 = '/content/CristianoRonaldo'"
      ],
      "metadata": {
        "id": "DOMKteSnQ3jb"
      },
      "execution_count": 6,
      "outputs": []
    },
    {
      "cell_type": "code",
      "source": [
        "#ESTO NOS PERMITE GENERAR UN LABEL A LOS ARCHIVOS DENTRO DE CADA CARPETA\n",
        "x = 0\n",
        "for i in os.listdir(path_messi):\n",
        "  file_oldname = os.path.join(path_messi, i)\n",
        "  file_newname_newfile = os.path.join(path_messi, f'messi_{x}.jpg')\n",
        "  os.rename(file_oldname, file_newname_newfile)\n",
        "  x = x + 1"
      ],
      "metadata": {
        "id": "7FPZ-sEeW5uZ"
      },
      "execution_count": 7,
      "outputs": []
    },
    {
      "cell_type": "code",
      "source": [
        "x = 0\n",
        "for i in os.listdir(path_cr7):\n",
        "  file_oldname = os.path.join(path_cr7, i)\n",
        "  file_newname_newfile = os.path.join(path_cr7, f'cr7_{x}.jpg')\n",
        "  os.rename(file_oldname, file_newname_newfile)\n",
        "  x += 1"
      ],
      "metadata": {
        "id": "ngRAwkSgd8bB"
      },
      "execution_count": 8,
      "outputs": []
    },
    {
      "cell_type": "code",
      "source": [
        "##CREAMOS listas USANDO LA FUNCIÓN glob con los path names de los archivos\n",
        "import glob\n",
        "cr7= glob.glob(\"/content/CristianoRonaldo/*.jpg\")\n",
        "the_goat= glob.glob(\"/content/LionelMessi/*.jpg\")"
      ],
      "metadata": {
        "id": "FaJlsnTGVRWd"
      },
      "execution_count": 9,
      "outputs": []
    },
    {
      "cell_type": "code",
      "source": [
        "cr7"
      ],
      "metadata": {
        "id": "xdpd1_i78HP7"
      },
      "execution_count": null,
      "outputs": []
    },
    {
      "cell_type": "code",
      "source": [
        "len(cr7)"
      ],
      "metadata": {
        "colab": {
          "base_uri": "https://localhost:8080/"
        },
        "id": "bFj3sQgYc8SC",
        "outputId": "0028aed0-3548-426f-8ece-4bef003a1ee4"
      },
      "execution_count": 15,
      "outputs": [
        {
          "output_type": "execute_result",
          "data": {
            "text/plain": [
              "2419"
            ]
          },
          "metadata": {},
          "execution_count": 15
        }
      ]
    },
    {
      "cell_type": "code",
      "source": [
        "len(the_goat)"
      ],
      "metadata": {
        "colab": {
          "base_uri": "https://localhost:8080/"
        },
        "id": "S9JM63Y48mk6",
        "outputId": "a606a0e7-751c-4da7-e44c-a8e86f440212"
      },
      "execution_count": 16,
      "outputs": [
        {
          "output_type": "execute_result",
          "data": {
            "text/plain": [
              "2307"
            ]
          },
          "metadata": {},
          "execution_count": 16
        }
      ]
    },
    {
      "cell_type": "code",
      "source": [
        "x = 0\n",
        "for i in the_goat:\n",
        "  if 'messi_2' in i:\n",
        "    var = i\n",
        "  x = x + 1"
      ],
      "metadata": {
        "id": "hu3_YrPTeoqW"
      },
      "execution_count": null,
      "outputs": []
    },
    {
      "cell_type": "code",
      "source": [
        "var"
      ],
      "metadata": {
        "colab": {
          "base_uri": "https://localhost:8080/",
          "height": 35
        },
        "id": "eOMKSGzVe9HU",
        "outputId": "f69c42a2-5c8f-4c55-e920-35b0225fbbf0"
      },
      "execution_count": null,
      "outputs": [
        {
          "output_type": "execute_result",
          "data": {
            "text/plain": [
              "'/content/LionelMessi/messi_2039.jpg'"
            ],
            "application/vnd.google.colaboratory.intrinsic+json": {
              "type": "string"
            }
          },
          "metadata": {},
          "execution_count": 169
        }
      ]
    },
    {
      "cell_type": "code",
      "source": [
        "img = plt.imread(cr7[0])\n",
        "plt.gray()\n",
        "plt.imshow(img)\n",
        "plt.grid(False)\n",
        "plt.colorbar()"
      ],
      "metadata": {
        "id": "HPNqZFv-Hjh3",
        "colab": {
          "base_uri": "https://localhost:8080/",
          "height": 286
        },
        "outputId": "012c99e6-e9b1-4a93-fc20-db98eb66d641"
      },
      "execution_count": 10,
      "outputs": [
        {
          "output_type": "execute_result",
          "data": {
            "text/plain": [
              "<matplotlib.colorbar.Colorbar at 0x7f86deb649d0>"
            ]
          },
          "metadata": {},
          "execution_count": 10
        },
        {
          "output_type": "display_data",
          "data": {
            "text/plain": [
              "<Figure size 432x288 with 2 Axes>"
            ],
            "image/png": "[encoded data removed]"
          },
          "metadata": {
            "needs_background": "light"
          }
        }
      ]
    },
    {
      "cell_type": "code",
      "source": [
        "img.shape"
      ],
      "metadata": {
        "colab": {
          "base_uri": "https://localhost:8080/"
        },
        "id": "a4QNzZOtKiHw",
        "outputId": "c28f07de-388a-4940-b3e2-495e2bf289d3"
      },
      "execution_count": 18,
      "outputs": [
        {
          "output_type": "execute_result",
          "data": {
            "text/plain": [
              "(675, 1200, 3)"
            ]
          },
          "metadata": {},
          "execution_count": 18
        }
      ]
    },
    {
      "cell_type": "code",
      "source": [
        "img = plt.imread(the_goat[1525])\n",
        "plt.gray()\n",
        "plt.imshow(img)\n",
        "plt.grid(False)\n",
        "plt.colorbar()"
      ],
      "metadata": {
        "colab": {
          "base_uri": "https://localhost:8080/",
          "height": 286
        },
        "id": "d2mJdqrxH0Eh",
        "outputId": "1b018536-a915-42d6-fa4f-87f59f1674b5"
      },
      "execution_count": 11,
      "outputs": [
        {
          "output_type": "execute_result",
          "data": {
            "text/plain": [
              "<matplotlib.colorbar.Colorbar at 0x7f86dce2b490>"
            ]
          },
          "metadata": {},
          "execution_count": 11
        },
        {
          "output_type": "display_data",
          "data": {
            "text/plain": [
              "<Figure size 432x288 with 2 Axes>"
            ],
            "image/png": "[encoded data removed]"
          },
          "metadata": {
            "needs_background": "light"
          }
        }
      ]
    },
    {
      "cell_type": "code",
      "source": [
        "img.shape"
      ],
      "metadata": {
        "colab": {
          "base_uri": "https://localhost:8080/"
        },
        "id": "3sAlQO6AKlQI",
        "outputId": "b69935bd-cbea-4201-d06b-b4337116b234"
      },
      "execution_count": 20,
      "outputs": [
        {
          "output_type": "execute_result",
          "data": {
            "text/plain": [
              "(168, 300, 3)"
            ]
          },
          "metadata": {},
          "execution_count": 20
        }
      ]
    },
    {
      "cell_type": "code",
      "source": [
        "len(cr7)"
      ],
      "metadata": {
        "colab": {
          "base_uri": "https://localhost:8080/"
        },
        "id": "tY_wZwfej2VK",
        "outputId": "74fb4277-ae12-4068-c55b-1c01932fe283"
      },
      "execution_count": 21,
      "outputs": [
        {
          "output_type": "execute_result",
          "data": {
            "text/plain": [
              "2419"
            ]
          },
          "metadata": {},
          "execution_count": 21
        }
      ]
    },
    {
      "cell_type": "markdown",
      "source": [
        "##creamos una lista con la ruta de las imagenes para cargar los datos de entrenamiento. Luego lo convertimos en un array"
      ],
      "metadata": {
        "id": "huTtvh5emSfa"
      }
    },
    {
      "cell_type": "code",
      "source": [
        "import random\n",
        "train = (the_goat[0:1800] + cr7[0:1800])\n",
        "##random.shuffle(train)"
      ],
      "metadata": {
        "id": "Ho3fbSZQ-Ari"
      },
      "execution_count": 12,
      "outputs": []
    },
    {
      "cell_type": "code",
      "source": [
        "fnames_train = np.array(train)"
      ],
      "metadata": {
        "id": "WUOW5UKnkENr"
      },
      "execution_count": 13,
      "outputs": []
    },
    {
      "cell_type": "code",
      "source": [
        "fnames_train"
      ],
      "metadata": {
        "colab": {
          "base_uri": "https://localhost:8080/"
        },
        "id": "ESNzFvZs88UU",
        "outputId": "49b77cc0-6c75-4dd5-9641-bab464c64b21"
      },
      "execution_count": 113,
      "outputs": [
        {
          "output_type": "execute_result",
          "data": {
            "text/plain": [
              "array(['/content/LionelMessi/messi_1459.jpg',\n",
              "       '/content/LionelMessi/messi_1296.jpg',\n",
              "       '/content/LionelMessi/messi_7.jpg', ...,\n",
              "       '/content/CristianoRonaldo/cr7_3466.jpg',\n",
              "       '/content/CristianoRonaldo/cr7_3432.jpg',\n",
              "       '/content/CristianoRonaldo/cr7_2951.jpg'], dtype='<U38')"
            ]
          },
          "metadata": {},
          "execution_count": 113
        }
      ]
    },
    {
      "cell_type": "code",
      "source": [
        "labels_train = np.array([(0 if 'messi' in fname else 1) for fname in fnames_train])"
      ],
      "metadata": {
        "id": "ijrMXOsxlbzi"
      },
      "execution_count": 14,
      "outputs": []
    },
    {
      "cell_type": "code",
      "source": [
        "np.unique(labels_train,return_counts=True)"
      ],
      "metadata": {
        "colab": {
          "base_uri": "https://localhost:8080/"
        },
        "id": "P2VS972UligF",
        "outputId": "426d7ddb-b636-410d-bc89-5d1910cb5412"
      },
      "execution_count": 15,
      "outputs": [
        {
          "output_type": "execute_result",
          "data": {
            "text/plain": [
              "(array([0, 1]), array([1800, 1800]))"
            ]
          },
          "metadata": {},
          "execution_count": 15
        }
      ]
    },
    {
      "cell_type": "code",
      "source": [
        "import seaborn as sns\n",
        "sns.countplot(labels_train)\n",
        "plt.title('Cristianos y Messias')"
      ],
      "metadata": {
        "colab": {
          "base_uri": "https://localhost:8080/",
          "height": 353
        },
        "id": "GFy1gi2glv4m",
        "outputId": "7c006fd5-1a21-4a99-ff77-f10f5a6748fa"
      },
      "execution_count": 28,
      "outputs": [
        {
          "output_type": "stream",
          "name": "stderr",
          "text": [
            "/usr/local/lib/python3.7/dist-packages/seaborn/_decorators.py:43: FutureWarning: Pass the following variable as a keyword arg: x. From version 0.12, the only valid positional argument will be `data`, and passing other arguments without an explicit keyword will result in an error or misinterpretation.\n",
            "  FutureWarning\n"
          ]
        },
        {
          "output_type": "execute_result",
          "data": {
            "text/plain": [
              "Text(0.5, 1.0, 'Cristianos y Messias')"
            ]
          },
          "metadata": {},
          "execution_count": 28
        },
        {
          "output_type": "display_data",
          "data": {
            "text/plain": [
              "<Figure size 432x288 with 1 Axes>"
            ],
            "image/png": "[encoded data removed]"
          },
          "metadata": {
            "needs_background": "light"
          }
        }
      ]
    },
    {
      "cell_type": "markdown",
      "source": [
        "##CARGAMOS LOS DATOS PARA PRUEBAS"
      ],
      "metadata": {
        "id": "gyIUZ1fimkFm"
      }
    },
    {
      "cell_type": "code",
      "source": [
        "test = (the_goat[1801:] + cr7[1801:])\n",
        "random.shuffle(test)"
      ],
      "metadata": {
        "id": "TZo7X57RmJw2"
      },
      "execution_count": 16,
      "outputs": []
    },
    {
      "cell_type": "code",
      "source": [
        "fnames_test = np.array(test)\n",
        "labels_test = np.array([(0 if 'messi' in fname else 1) for fname in fnames_test])"
      ],
      "metadata": {
        "id": "trZeXs_Um5b6"
      },
      "execution_count": 17,
      "outputs": []
    },
    {
      "cell_type": "code",
      "source": [
        "np.unique(labels_test,return_counts=True)"
      ],
      "metadata": {
        "colab": {
          "base_uri": "https://localhost:8080/"
        },
        "id": "zENflnn3nU3k",
        "outputId": "adbc41f4-6140-4279-fbe7-69068c8d356b"
      },
      "execution_count": 18,
      "outputs": [
        {
          "output_type": "execute_result",
          "data": {
            "text/plain": [
              "(array([0, 1]), array([2340, 2563]))"
            ]
          },
          "metadata": {},
          "execution_count": 18
        }
      ]
    },
    {
      "cell_type": "code",
      "source": [
        "import seaborn as sns\n",
        "sns.countplot(labels_test)\n",
        "plt.title('Cristianos y Messias')"
      ],
      "metadata": {
        "colab": {
          "base_uri": "https://localhost:8080/",
          "height": 353
        },
        "id": "8S7hSg-6mvob",
        "outputId": "5bfe31b1-94a2-48dd-a8c9-1c55604b154b"
      },
      "execution_count": 32,
      "outputs": [
        {
          "output_type": "stream",
          "name": "stderr",
          "text": [
            "/usr/local/lib/python3.7/dist-packages/seaborn/_decorators.py:43: FutureWarning: Pass the following variable as a keyword arg: x. From version 0.12, the only valid positional argument will be `data`, and passing other arguments without an explicit keyword will result in an error or misinterpretation.\n",
            "  FutureWarning\n"
          ]
        },
        {
          "output_type": "execute_result",
          "data": {
            "text/plain": [
              "Text(0.5, 1.0, 'Cristianos y Messias')"
            ]
          },
          "metadata": {},
          "execution_count": 32
        },
        {
          "output_type": "display_data",
          "data": {
            "text/plain": [
              "<Figure size 432x288 with 1 Axes>"
            ],
            "image/png": "[encoded data removed]"
          },
          "metadata": {
            "needs_background": "light"
          }
        }
      ]
    },
    {
      "cell_type": "code",
      "source": [
        "#Esta función lee una imagen, y la devuelve convertida al tamaño que requerimos (64x64). Que es el shape que definimos en la red neuronal de arriba (input_shape)\n",
        "def read_image(file_path, ROWS = 28,COLS = 28):\n",
        "  img = cv2.imread(file_path, cv2.IMREAD_COLOR)\n",
        "  return cv2.resize(img, (ROWS, COLS))"
      ],
      "metadata": {
        "id": "42LqVjTLpGU0"
      },
      "execution_count": 33,
      "outputs": []
    },
    {
      "cell_type": "code",
      "source": [
        "#Ahora, esta función convierte todas las imagenes, utilizando la función anterior. Entonces esta función hace un ciclo, leyendo cada imagen y convirtiendola\n",
        "def prep_data(images, ROWS = 28,COLS = 28,CHANNELS=3):\n",
        "  count = len(images)\n",
        "  data = np.ndarray((count, ROWS, COLS, CHANNELS))\n",
        "  for i, image_file in enumerate(images):\n",
        "    image = read_image(image_file,ROWS,COLS)\n",
        "    data[i] = image   \n",
        "  return data"
      ],
      "metadata": {
        "id": "t8VR2jBqpHaw"
      },
      "execution_count": 34,
      "outputs": []
    },
    {
      "cell_type": "code",
      "source": [
        "import cv2\n",
        "ROWS = 128\n",
        "COLS = 128\n",
        "CHANNELS = 3\n",
        "train = prep_data(fnames_train,ROWS=ROWS,COLS=COLS)"
      ],
      "metadata": {
        "id": "_mbClpKhpKZO"
      },
      "execution_count": 35,
      "outputs": []
    },
    {
      "cell_type": "code",
      "source": [
        "ROWS = 128\n",
        "COLS = 128\n",
        "CHANNELS = 3\n",
        "test = prep_data(fnames_test,ROWS=ROWS,COLS=COLS)"
      ],
      "metadata": {
        "id": "iGh8U-Zmpglu"
      },
      "execution_count": 36,
      "outputs": []
    },
    {
      "cell_type": "code",
      "source": [
        "train.shape"
      ],
      "metadata": {
        "colab": {
          "base_uri": "https://localhost:8080/"
        },
        "id": "XctrQak2p3mK",
        "outputId": "3d66f2bb-374c-4af9-d7af-a2d4c54eddf1"
      },
      "execution_count": 37,
      "outputs": [
        {
          "output_type": "execute_result",
          "data": {
            "text/plain": [
              "(3600, 128, 128, 3)"
            ]
          },
          "metadata": {},
          "execution_count": 37
        }
      ]
    },
    {
      "cell_type": "code",
      "source": [
        "test.shape"
      ],
      "metadata": {
        "colab": {
          "base_uri": "https://localhost:8080/"
        },
        "id": "Elpg6CemQrQX",
        "outputId": "336532ea-0d29-4ece-c8b6-5d9e77e5b9aa"
      },
      "execution_count": 38,
      "outputs": [
        {
          "output_type": "execute_result",
          "data": {
            "text/plain": [
              "(1124, 128, 128, 3)"
            ]
          },
          "metadata": {},
          "execution_count": 38
        }
      ]
    },
    {
      "cell_type": "code",
      "source": [
        "# Normalizar los datos\n",
        "x_train = train.astype('float32')/255.\n",
        "x_test = test.astype('float32')/255."
      ],
      "metadata": {
        "id": "vvHKD80Hp_FT"
      },
      "execution_count": 39,
      "outputs": []
    },
    {
      "cell_type": "code",
      "source": [
        "from tensorflow.keras.models import Sequential"
      ],
      "metadata": {
        "id": "stCZrf90qVer"
      },
      "execution_count": 40,
      "outputs": []
    },
    {
      "cell_type": "code",
      "source": [
        "classifier = Sequential()\n",
        "classifier.add(Conv2D(32, (3, 3), input_shape = (128, 128, 3), activation = 'relu'))\n",
        "classifier.add(MaxPooling2D(pool_size = (2, 2)))\n",
        "\n",
        "classifier.add(Conv2D(32, (3, 3), activation = 'relu'))\n",
        "classifier.add(MaxPooling2D(pool_size = (2, 2)))\n",
        "\n",
        "classifier.add(Flatten())\n",
        "\n",
        "classifier.add(Dense(units = 128, activation = 'relu'))\n",
        "classifier.add(Dense(units = 1, activation = 'sigmoid'))"
      ],
      "metadata": {
        "id": "ZTVgYKQoqRFl"
      },
      "execution_count": 41,
      "outputs": []
    },
    {
      "cell_type": "code",
      "source": [
        "classifier.compile(optimizer = 'adam', loss = 'binary_crossentropy', metrics = ['accuracy'])"
      ],
      "metadata": {
        "id": "CuBB7H56qz5f"
      },
      "execution_count": 42,
      "outputs": []
    },
    {
      "cell_type": "code",
      "source": [
        "from sklearn.model_selection import train_test_split\n",
        "X_train, X_val, Y_train, Y_val = train_test_split(x_train,labels_train, test_size=0.2, random_state=7)"
      ],
      "metadata": {
        "id": "huktlxqyrtjj"
      },
      "execution_count": 43,
      "outputs": []
    },
    {
      "cell_type": "code",
      "source": [
        "history=classifier.fit(X_train,Y_train, epochs = 50,validation_data=(X_val,Y_val))"
      ],
      "metadata": {
        "id": "NhYrWwqwq0up",
        "colab": {
          "base_uri": "https://localhost:8080/"
        },
        "outputId": "cfc92b2f-695e-4cee-8376-aaf8e733bae4"
      },
      "execution_count": 44,
      "outputs": [
        {
          "output_type": "stream",
          "name": "stdout",
          "text": [
            "Epoch 1/50\n",
            "90/90 [==============================] - 54s 592ms/step - loss: 0.5770 - accuracy: 0.7170 - val_loss: 0.5017 - val_accuracy: 0.7708\n",
            "Epoch 2/50\n",
            "90/90 [==============================] - 51s 567ms/step - loss: 0.4156 - accuracy: 0.8226 - val_loss: 0.4263 - val_accuracy: 0.8167\n",
            "Epoch 3/50\n",
            "90/90 [==============================] - 51s 570ms/step - loss: 0.3226 - accuracy: 0.8622 - val_loss: 0.4231 - val_accuracy: 0.8111\n",
            "Epoch 4/50\n",
            "90/90 [==============================] - 51s 570ms/step - loss: 0.2561 - accuracy: 0.8969 - val_loss: 0.4753 - val_accuracy: 0.8264\n",
            "Epoch 5/50\n",
            "90/90 [==============================] - 51s 569ms/step - loss: 0.1574 - accuracy: 0.9389 - val_loss: 0.5244 - val_accuracy: 0.7958\n",
            "Epoch 6/50\n",
            "90/90 [==============================] - 51s 571ms/step - loss: 0.0833 - accuracy: 0.9726 - val_loss: 0.5322 - val_accuracy: 0.8139\n",
            "Epoch 7/50\n",
            "90/90 [==============================] - 52s 578ms/step - loss: 0.0449 - accuracy: 0.9878 - val_loss: 0.7052 - val_accuracy: 0.8083\n",
            "Epoch 8/50\n",
            "90/90 [==============================] - 52s 582ms/step - loss: 0.0157 - accuracy: 0.9972 - val_loss: 0.8659 - val_accuracy: 0.8278\n",
            "Epoch 9/50\n",
            "90/90 [==============================] - 53s 584ms/step - loss: 0.0153 - accuracy: 0.9972 - val_loss: 0.7464 - val_accuracy: 0.8069\n",
            "Epoch 10/50\n",
            "90/90 [==============================] - 52s 578ms/step - loss: 0.0320 - accuracy: 0.9924 - val_loss: 0.7898 - val_accuracy: 0.8028\n",
            "Epoch 11/50\n",
            "90/90 [==============================] - 52s 574ms/step - loss: 0.0436 - accuracy: 0.9882 - val_loss: 0.8512 - val_accuracy: 0.8236\n",
            "Epoch 12/50\n",
            "90/90 [==============================] - 52s 573ms/step - loss: 0.0098 - accuracy: 0.9986 - val_loss: 0.9773 - val_accuracy: 0.8194\n",
            "Epoch 13/50\n",
            "90/90 [==============================] - 52s 574ms/step - loss: 0.0047 - accuracy: 0.9990 - val_loss: 1.0797 - val_accuracy: 0.8181\n",
            "Epoch 14/50\n",
            "90/90 [==============================] - 52s 574ms/step - loss: 0.0024 - accuracy: 0.9997 - val_loss: 1.1183 - val_accuracy: 0.8069\n",
            "Epoch 15/50\n",
            "90/90 [==============================] - 52s 576ms/step - loss: 0.0046 - accuracy: 0.9993 - val_loss: 1.1173 - val_accuracy: 0.8167\n",
            "Epoch 16/50\n",
            "90/90 [==============================] - 53s 592ms/step - loss: 0.0030 - accuracy: 0.9993 - val_loss: 1.1254 - val_accuracy: 0.8236\n",
            "Epoch 17/50\n",
            "90/90 [==============================] - 52s 577ms/step - loss: 0.0016 - accuracy: 0.9997 - val_loss: 1.1230 - val_accuracy: 0.8181\n",
            "Epoch 18/50\n",
            "90/90 [==============================] - 52s 573ms/step - loss: 0.0022 - accuracy: 0.9997 - val_loss: 1.2092 - val_accuracy: 0.8181\n",
            "Epoch 19/50\n",
            "90/90 [==============================] - 51s 571ms/step - loss: 0.0020 - accuracy: 0.9997 - val_loss: 1.1204 - val_accuracy: 0.8181\n",
            "Epoch 20/50\n",
            "90/90 [==============================] - 51s 571ms/step - loss: 0.0015 - accuracy: 0.9997 - val_loss: 1.2284 - val_accuracy: 0.8250\n",
            "Epoch 21/50\n",
            "90/90 [==============================] - 51s 573ms/step - loss: 0.0021 - accuracy: 0.9997 - val_loss: 1.1143 - val_accuracy: 0.8306\n",
            "Epoch 22/50\n",
            "90/90 [==============================] - 52s 574ms/step - loss: 0.0017 - accuracy: 0.9997 - val_loss: 1.1977 - val_accuracy: 0.8236\n",
            "Epoch 23/50\n",
            "90/90 [==============================] - 52s 573ms/step - loss: 0.0036 - accuracy: 0.9993 - val_loss: 1.1561 - val_accuracy: 0.8250\n",
            "Epoch 24/50\n",
            "90/90 [==============================] - 52s 573ms/step - loss: 0.0026 - accuracy: 0.9993 - val_loss: 1.1232 - val_accuracy: 0.8278\n",
            "Epoch 25/50\n",
            "90/90 [==============================] - 52s 573ms/step - loss: 0.0016 - accuracy: 0.9993 - val_loss: 1.1532 - val_accuracy: 0.8306\n",
            "Epoch 26/50\n",
            "90/90 [==============================] - 52s 573ms/step - loss: 0.0026 - accuracy: 0.9993 - val_loss: 1.1319 - val_accuracy: 0.8222\n",
            "Epoch 27/50\n",
            "90/90 [==============================] - 52s 574ms/step - loss: 0.0011 - accuracy: 0.9997 - val_loss: 1.1508 - val_accuracy: 0.8208\n",
            "Epoch 28/50\n",
            "90/90 [==============================] - 51s 573ms/step - loss: 0.0027 - accuracy: 0.9997 - val_loss: 1.1061 - val_accuracy: 0.8292\n",
            "Epoch 29/50\n",
            "90/90 [==============================] - 52s 574ms/step - loss: 1.6601e-04 - accuracy: 1.0000 - val_loss: 1.1813 - val_accuracy: 0.8292\n",
            "Epoch 30/50\n",
            "90/90 [==============================] - 52s 575ms/step - loss: 9.7248e-05 - accuracy: 1.0000 - val_loss: 1.2250 - val_accuracy: 0.8250\n",
            "Epoch 31/50\n",
            "90/90 [==============================] - 52s 576ms/step - loss: 7.4144e-05 - accuracy: 1.0000 - val_loss: 1.2525 - val_accuracy: 0.8250\n",
            "Epoch 32/50\n",
            "90/90 [==============================] - 52s 575ms/step - loss: 6.2154e-05 - accuracy: 1.0000 - val_loss: 1.2736 - val_accuracy: 0.8236\n",
            "Epoch 33/50\n",
            "90/90 [==============================] - 52s 577ms/step - loss: 5.1907e-05 - accuracy: 1.0000 - val_loss: 1.2905 - val_accuracy: 0.8222\n",
            "Epoch 34/50\n",
            "90/90 [==============================] - 52s 578ms/step - loss: 4.5094e-05 - accuracy: 1.0000 - val_loss: 1.3119 - val_accuracy: 0.8208\n",
            "Epoch 35/50\n",
            "90/90 [==============================] - 52s 575ms/step - loss: 3.7766e-05 - accuracy: 1.0000 - val_loss: 1.3274 - val_accuracy: 0.8208\n",
            "Epoch 36/50\n",
            "90/90 [==============================] - 52s 574ms/step - loss: 3.4758e-05 - accuracy: 1.0000 - val_loss: 1.3433 - val_accuracy: 0.8222\n",
            "Epoch 37/50\n",
            "90/90 [==============================] - 52s 575ms/step - loss: 3.1066e-05 - accuracy: 1.0000 - val_loss: 1.3573 - val_accuracy: 0.8208\n",
            "Epoch 38/50\n",
            "90/90 [==============================] - 52s 573ms/step - loss: 2.7510e-05 - accuracy: 1.0000 - val_loss: 1.3741 - val_accuracy: 0.8236\n",
            "Epoch 39/50\n",
            "90/90 [==============================] - 53s 586ms/step - loss: 2.6324e-05 - accuracy: 1.0000 - val_loss: 1.3831 - val_accuracy: 0.8194\n",
            "Epoch 40/50\n",
            "90/90 [==============================] - 52s 573ms/step - loss: 2.2423e-05 - accuracy: 1.0000 - val_loss: 1.3942 - val_accuracy: 0.8194\n",
            "Epoch 41/50\n",
            "90/90 [==============================] - 52s 573ms/step - loss: 2.0574e-05 - accuracy: 1.0000 - val_loss: 1.4054 - val_accuracy: 0.8222\n",
            "Epoch 42/50\n",
            "90/90 [==============================] - 51s 570ms/step - loss: 1.8959e-05 - accuracy: 1.0000 - val_loss: 1.4097 - val_accuracy: 0.8194\n",
            "Epoch 43/50\n",
            "90/90 [==============================] - 51s 571ms/step - loss: 2.0289e-05 - accuracy: 1.0000 - val_loss: 1.4295 - val_accuracy: 0.8222\n",
            "Epoch 44/50\n",
            "90/90 [==============================] - 52s 577ms/step - loss: 1.3691e-05 - accuracy: 1.0000 - val_loss: 1.4386 - val_accuracy: 0.8222\n",
            "Epoch 45/50\n",
            "90/90 [==============================] - 52s 577ms/step - loss: 1.3638e-05 - accuracy: 1.0000 - val_loss: 1.4476 - val_accuracy: 0.8181\n",
            "Epoch 46/50\n",
            "90/90 [==============================] - 52s 579ms/step - loss: 1.2695e-05 - accuracy: 1.0000 - val_loss: 1.4430 - val_accuracy: 0.8194\n",
            "Epoch 47/50\n",
            "90/90 [==============================] - 52s 579ms/step - loss: 1.1556e-05 - accuracy: 1.0000 - val_loss: 1.4677 - val_accuracy: 0.8181\n",
            "Epoch 48/50\n",
            "90/90 [==============================] - 52s 577ms/step - loss: 1.0121e-05 - accuracy: 1.0000 - val_loss: 1.4804 - val_accuracy: 0.8194\n",
            "Epoch 49/50\n",
            "90/90 [==============================] - 52s 578ms/step - loss: 9.5120e-06 - accuracy: 1.0000 - val_loss: 1.4748 - val_accuracy: 0.8208\n",
            "Epoch 50/50\n",
            "90/90 [==============================] - 52s 579ms/step - loss: 8.8881e-06 - accuracy: 1.0000 - val_loss: 1.4918 - val_accuracy: 0.8194\n"
          ]
        }
      ]
    },
    {
      "cell_type": "code",
      "source": [
        "classifier.evaluate(X_val,Y_val)"
      ],
      "metadata": {
        "colab": {
          "base_uri": "https://localhost:8080/"
        },
        "id": "1xcT4CT9q2kl",
        "outputId": "328d8442-563c-4bb1-e66f-cb83e6e24c9a"
      },
      "execution_count": 45,
      "outputs": [
        {
          "output_type": "stream",
          "name": "stdout",
          "text": [
            "23/23 [==============================] - 6s 247ms/step - loss: 1.4918 - accuracy: 0.8194\n"
          ]
        },
        {
          "output_type": "execute_result",
          "data": {
            "text/plain": [
              "[1.491755723953247, 0.8194444179534912]"
            ]
          },
          "metadata": {},
          "execution_count": 45
        }
      ]
    },
    {
      "cell_type": "code",
      "source": [
        "acc=history.history['accuracy']\n",
        "val_acc=history.history['val_accuracy']\n",
        "epoch=range(len(acc))\n",
        "loss=history.history['loss']\n",
        "val_loss=history.history['val_loss']\n",
        "f,ax=plt.subplots(1,2,figsize=(8,4))\n",
        "ax[0].plot(epoch,acc,'blue',label='Training Accuracy')\n",
        "ax[0].plot(epoch,val_acc,'red',label='Validation Accuracy')\n",
        "ax[0].legend()\n",
        "ax[1].plot(epoch,loss,'blue',label='Training Loss')\n",
        "ax[1].plot(epoch,val_loss,'red',label='Validation Loss')\n",
        "ax[1].legend()\n",
        "plt.show()"
      ],
      "metadata": {
        "colab": {
          "base_uri": "https://localhost:8080/",
          "height": 265
        },
        "id": "uS4-hIeesa_K",
        "outputId": "cb8da35d-d423-4967-cd8b-09d581fd9bbf"
      },
      "execution_count": 46,
      "outputs": [
        {
          "output_type": "display_data",
          "data": {
            "text/plain": [
              "<Figure size 576x288 with 2 Axes>"
            ],
            "image/png": "[encoded data removed]"
          },
          "metadata": {
            "needs_background": "light"
          }
        }
      ]
    },
    {
      "cell_type": "code",
      "source": [
        "predictions = classifier.predict(X_val)"
      ],
      "metadata": {
        "id": "z1xFT4obsk6O"
      },
      "execution_count": 47,
      "outputs": []
    },
    {
      "cell_type": "code",
      "source": [
        "import matplotlib.pyplot as plt"
      ],
      "metadata": {
        "id": "ljsuQRCcsyuD"
      },
      "execution_count": 48,
      "outputs": []
    },
    {
      "cell_type": "code",
      "source": [
        "index_image=20\n",
        "plt.figure(figsize=(4,4))\n",
        "plt.grid(False)\n",
        "plt.xticks([])\n",
        "plt.yticks([])\n",
        "plt.imshow(X_val[index_image])\n",
        "\n",
        "predicted_label = \"messi\" if predictions[index_image]<0.5 else \"cr7\"\n",
        "real_label=\"messi\" if Y_val[index_image]==0 else \"cr7\"\n",
        "plt.xlabel(\"{} {:2.0f}% ({})\".format(predicted_label,\n",
        "                              100*np.max(predictions[index_image]),\n",
        "                              real_label))"
      ],
      "metadata": {
        "colab": {
          "base_uri": "https://localhost:8080/",
          "height": 279
        },
        "id": "Qp-A14bhso55",
        "outputId": "7e3eed3e-e870-4062-8fa2-21c72c28dec6"
      },
      "execution_count": 49,
      "outputs": [
        {
          "output_type": "execute_result",
          "data": {
            "text/plain": [
              "Text(0.5, 0, 'cr7 100% (cr7)')"
            ]
          },
          "metadata": {},
          "execution_count": 49
        },
        {
          "output_type": "display_data",
          "data": {
            "text/plain": [
              "<Figure size 288x288 with 1 Axes>"
            ],
            "image/png": "[encoded data removed]"
          },
          "metadata": {}
        }
      ]
    },
    {
      "cell_type": "markdown",
      "source": [
        "## Transferencia de aprendizaje (usando otras redes entrenadas)"
      ],
      "metadata": {
        "id": "knC7MYqkxOhQ"
      }
    },
    {
      "cell_type": "code",
      "source": [
        "import shutil"
      ],
      "metadata": {
        "id": "jlw0Ci9BrREo"
      },
      "execution_count": 50,
      "outputs": []
    },
    {
      "cell_type": "code",
      "source": [
        "# Source path \n",
        "source = '/content/LionelMessi/'\n",
        "# Destination path \n",
        "destination = '/content/train'\n",
        "x=0\n",
        "for file in os.listdir(path_messi):\n",
        "  if x<1800:\n",
        "    shutil.move(f'{source}{file}', destination)\n",
        "    x += 1\n",
        "  else:\n",
        "    break"
      ],
      "metadata": {
        "id": "5wkt-FF2rXwN"
      },
      "execution_count": 73,
      "outputs": []
    },
    {
      "cell_type": "code",
      "source": [
        "# Source path \n",
        "source = '/content/CristianoRonaldo/'\n",
        "# Destination path \n",
        "destination = '/content/train'\n",
        "x=0\n",
        "for file in os.listdir(path_cr7):\n",
        "  if x<1800:\n",
        "    shutil.move(f'{source}{file}', destination)\n",
        "    x += 1\n",
        "  else:\n",
        "    break"
      ],
      "metadata": {
        "id": "TckEw2rKyAjT"
      },
      "execution_count": 76,
      "outputs": []
    },
    {
      "cell_type": "code",
      "source": [
        "# Source path \n",
        "source = '/content/LionelMessi/'\n",
        "# Destination path \n",
        "destination = '/content/test'\n",
        "x=0\n",
        "for file in os.listdir(path_messi):\n",
        "  shutil.move(f'{source}{file}', destination)"
      ],
      "metadata": {
        "id": "hDJOkwbiyR-f"
      },
      "execution_count": 79,
      "outputs": []
    },
    {
      "cell_type": "code",
      "source": [
        "# Source path \n",
        "source = '/content/CristianoRonaldo/'\n",
        "# Destination path \n",
        "destination = '/content/test'\n",
        "x=0\n",
        "for file in os.listdir(path_cr7):\n",
        "  shutil.move(f'{source}{file}', destination)"
      ],
      "metadata": {
        "id": "NcnWDZxyyfoF"
      },
      "execution_count": 84,
      "outputs": []
    },
    {
      "cell_type": "code",
      "source": [
        "##CREAMOS listas USANDO LA FUNCIÓN glob con los path names de los archivos\n",
        "import glob\n",
        "train_it = glob.glob(\"/content/train/*.jpg\")\n",
        "test_it = glob.glob(\"/content/test/*.jpg\")"
      ],
      "metadata": {
        "id": "zGGsLJ3Lx1Eq"
      },
      "execution_count": 85,
      "outputs": []
    },
    {
      "cell_type": "code",
      "source": [
        "len(train_it)"
      ],
      "metadata": {
        "colab": {
          "base_uri": "https://localhost:8080/"
        },
        "id": "6tg2N5Svx8mX",
        "outputId": "a424b920-ee39-40b1-a317-0a21432f1f1b"
      },
      "execution_count": 89,
      "outputs": [
        {
          "output_type": "execute_result",
          "data": {
            "text/plain": [
              "0"
            ]
          },
          "metadata": {},
          "execution_count": 89
        }
      ]
    },
    {
      "cell_type": "code",
      "source": [
        "len(test_it)"
      ],
      "metadata": {
        "colab": {
          "base_uri": "https://localhost:8080/"
        },
        "id": "HxWhi5MYysL_",
        "outputId": "375b5bd5-0720-4070-bb15-210bcd6e6f34"
      },
      "execution_count": 86,
      "outputs": [
        {
          "output_type": "execute_result",
          "data": {
            "text/plain": [
              "1126"
            ]
          },
          "metadata": {},
          "execution_count": 86
        }
      ]
    },
    {
      "cell_type": "code",
      "source": [
        "# Source path \n",
        "source = '/content/CristianoRonaldo/'\n",
        "# Destination path \n",
        "destination = '/content/train'\n",
        "for file in os.listdir(path_cr7):\n",
        "  shutil.move(f'{source}{file}', destination)"
      ],
      "metadata": {
        "id": "QFoaDDUWvVdU"
      },
      "execution_count": 64,
      "outputs": []
    },
    {
      "cell_type": "code",
      "source": [
        "os.listdir('/content/train')"
      ],
      "metadata": {
        "id": "rkST1GE9wau3"
      },
      "execution_count": null,
      "outputs": []
    },
    {
      "cell_type": "code",
      "source": [
        "from os import makedirs\n",
        "from os import listdir\n",
        "from shutil import copyfile\n",
        "from random import seed\n",
        "from random import random\n",
        "from tensorflow.keras.preprocessing.image import ImageDataGenerator\n",
        "import pandas as pd"
      ],
      "metadata": {
        "id": "5mDMTf2fxQHq"
      },
      "execution_count": 19,
      "outputs": []
    },
    {
      "cell_type": "code",
      "source": [
        "datagen = ImageDataGenerator(rescale=1.0/255.0)"
      ],
      "metadata": {
        "id": "IOfuRkKgxS7C"
      },
      "execution_count": 20,
      "outputs": []
    },
    {
      "cell_type": "code",
      "source": [
        "##Necesitamos tener las categorias como tipo string\n",
        "labels = np.array([('messi' if 'messi' in fname else 'cr7') for fname in fnames_train])"
      ],
      "metadata": {
        "id": "LbEhrzJlMAne"
      },
      "execution_count": 21,
      "outputs": []
    },
    {
      "cell_type": "code",
      "source": [
        "df=pd.DataFrame({'images':fnames_train, 'class':labels})\n",
        "df"
      ],
      "metadata": {
        "colab": {
          "base_uri": "https://localhost:8080/",
          "height": 424
        },
        "id": "zdsLdQ59J-j8",
        "outputId": "27708909-dbbf-4e1b-a758-1c630a054dde"
      },
      "execution_count": 22,
      "outputs": [
        {
          "output_type": "execute_result",
          "data": {
            "text/plain": [
              "                                      images  class\n",
              "0        /content/LionelMessi/messi_1459.jpg  messi\n",
              "1        /content/LionelMessi/messi_1296.jpg  messi\n",
              "2           /content/LionelMessi/messi_7.jpg  messi\n",
              "3        /content/LionelMessi/messi_3493.jpg  messi\n",
              "4        /content/LionelMessi/messi_3911.jpg  messi\n",
              "...                                      ...    ...\n",
              "3595  /content/CristianoRonaldo/cr7_1031.jpg    cr7\n",
              "3596  /content/CristianoRonaldo/cr7_3541.jpg    cr7\n",
              "3597  /content/CristianoRonaldo/cr7_3498.jpg    cr7\n",
              "3598   /content/CristianoRonaldo/cr7_451.jpg    cr7\n",
              "3599   /content/CristianoRonaldo/cr7_920.jpg    cr7\n",
              "\n",
              "[3600 rows x 2 columns]"
            ],
            "text/html": [
              "\n",
              "  <div id=\"df-03dbee39-b9bd-4bfd-b41c-cddbaae26702\">\n",
              "    <div class=\"colab-df-container\">\n",
              "      <div>\n",
              "<style scoped>\n",
              "    .dataframe tbody tr th:only-of-type {\n",
              "        vertical-align: middle;\n",
              "    }\n",
              "\n",
              "    .dataframe tbody tr th {\n",
              "        vertical-align: top;\n",
              "    }\n",
              "\n",
              "    .dataframe thead th {\n",
              "        text-align: right;\n",
              "    }\n",
              "</style>\n",
              "<table border=\"1\" class=\"dataframe\">\n",
              "  <thead>\n",
              "    <tr style=\"text-align: right;\">\n",
              "      <th></th>\n",
              "      <th>images</th>\n",
              "      <th>class</th>\n",
              "    </tr>\n",
              "  </thead>\n",
              "  <tbody>\n",
              "    <tr>\n",
              "      <th>0</th>\n",
              "      <td>/content/LionelMessi/messi_1459.jpg</td>\n",
              "      <td>messi</td>\n",
              "    </tr>\n",
              "    <tr>\n",
              "      <th>1</th>\n",
              "      <td>/content/LionelMessi/messi_1296.jpg</td>\n",
              "      <td>messi</td>\n",
              "    </tr>\n",
              "    <tr>\n",
              "      <th>2</th>\n",
              "      <td>/content/LionelMessi/messi_7.jpg</td>\n",
              "      <td>messi</td>\n",
              "    </tr>\n",
              "    <tr>\n",
              "      <th>3</th>\n",
              "      <td>/content/LionelMessi/messi_3493.jpg</td>\n",
              "      <td>messi</td>\n",
              "    </tr>\n",
              "    <tr>\n",
              "      <th>4</th>\n",
              "      <td>/content/LionelMessi/messi_3911.jpg</td>\n",
              "      <td>messi</td>\n",
              "    </tr>\n",
              "    <tr>\n",
              "      <th>...</th>\n",
              "      <td>...</td>\n",
              "      <td>...</td>\n",
              "    </tr>\n",
              "    <tr>\n",
              "      <th>3595</th>\n",
              "      <td>/content/CristianoRonaldo/cr7_1031.jpg</td>\n",
              "      <td>cr7</td>\n",
              "    </tr>\n",
              "    <tr>\n",
              "      <th>3596</th>\n",
              "      <td>/content/CristianoRonaldo/cr7_3541.jpg</td>\n",
              "      <td>cr7</td>\n",
              "    </tr>\n",
              "    <tr>\n",
              "      <th>3597</th>\n",
              "      <td>/content/CristianoRonaldo/cr7_3498.jpg</td>\n",
              "      <td>cr7</td>\n",
              "    </tr>\n",
              "    <tr>\n",
              "      <th>3598</th>\n",
              "      <td>/content/CristianoRonaldo/cr7_451.jpg</td>\n",
              "      <td>cr7</td>\n",
              "    </tr>\n",
              "    <tr>\n",
              "      <th>3599</th>\n",
              "      <td>/content/CristianoRonaldo/cr7_920.jpg</td>\n",
              "      <td>cr7</td>\n",
              "    </tr>\n",
              "  </tbody>\n",
              "</table>\n",
              "<p>3600 rows × 2 columns</p>\n",
              "</div>\n",
              "      <button class=\"colab-df-convert\" onclick=\"convertToInteractive('df-03dbee39-b9bd-4bfd-b41c-cddbaae26702')\"\n",
              "              title=\"Convert this dataframe to an interactive table.\"\n",
              "              style=\"display:none;\">\n",
              "        \n",
              "  <svg xmlns=\"http://www.w3.org/2000/svg\" height=\"24px\"viewBox=\"0 0 24 24\"\n",
              "       width=\"24px\">\n",
              "    <path d=\"M0 0h24v24H0V0z\" fill=\"none\"/>\n",
              "    <path d=\"M18.56 5.44l.94 2.06.94-2.06 2.06-.94-2.06-.94-.94-2.06-.94 2.06-2.06.94zm-11 1L8.5 8.5l.94-2.06 2.06-.94-2.06-.94L8.5 2.5l-.94 2.06-2.06.94zm10 10l.94 2.06.94-2.06 2.06-.94-2.06-.94-.94-2.06-.94 2.06-2.06.94z\"/><path d=\"M17.41 7.96l-1.37-1.37c-.4-.4-.92-.59-1.43-.59-.52 0-1.04.2-1.43.59L10.3 9.45l-7.72 7.72c-.78.78-.78 2.05 0 2.83L4 21.41c.39.39.9.59 1.41.59.51 0 1.02-.2 1.41-.59l7.78-7.78 2.81-2.81c.8-.78.8-2.07 0-2.86zM5.41 20L4 18.59l7.72-7.72 1.47 1.35L5.41 20z\"/>\n",
              "  </svg>\n",
              "      </button>\n",
              "      \n",
              "  <style>\n",
              "    .colab-df-container {\n",
              "      display:flex;\n",
              "      flex-wrap:wrap;\n",
              "      gap: 12px;\n",
              "    }\n",
              "\n",
              "    .colab-df-convert {\n",
              "      background-color: #E8F0FE;\n",
              "      border: none;\n",
              "      border-radius: 50%;\n",
              "      cursor: pointer;\n",
              "      display: none;\n",
              "      fill: #1967D2;\n",
              "      height: 32px;\n",
              "      padding: 0 0 0 0;\n",
              "      width: 32px;\n",
              "    }\n",
              "\n",
              "    .colab-df-convert:hover {\n",
              "      background-color: #E2EBFA;\n",
              "      box-shadow: 0px 1px 2px rgba(60, 64, 67, 0.3), 0px 1px 3px 1px rgba(60, 64, 67, 0.15);\n",
              "      fill: #174EA6;\n",
              "    }\n",
              "\n",
              "    [theme=dark] .colab-df-convert {\n",
              "      background-color: #3B4455;\n",
              "      fill: #D2E3FC;\n",
              "    }\n",
              "\n",
              "    [theme=dark] .colab-df-convert:hover {\n",
              "      background-color: #434B5C;\n",
              "      box-shadow: 0px 1px 3px 1px rgba(0, 0, 0, 0.15);\n",
              "      filter: drop-shadow(0px 1px 2px rgba(0, 0, 0, 0.3));\n",
              "      fill: #FFFFFF;\n",
              "    }\n",
              "  </style>\n",
              "\n",
              "      <script>\n",
              "        const buttonEl =\n",
              "          document.querySelector('#df-03dbee39-b9bd-4bfd-b41c-cddbaae26702 button.colab-df-convert');\n",
              "        buttonEl.style.display =\n",
              "          google.colab.kernel.accessAllowed ? 'block' : 'none';\n",
              "\n",
              "        async function convertToInteractive(key) {\n",
              "          const element = document.querySelector('#df-03dbee39-b9bd-4bfd-b41c-cddbaae26702');\n",
              "          const dataTable =\n",
              "            await google.colab.kernel.invokeFunction('convertToInteractive',\n",
              "                                                     [key], {});\n",
              "          if (!dataTable) return;\n",
              "\n",
              "          const docLinkHtml = 'Like what you see? Visit the ' +\n",
              "            '<a target=\"_blank\" href=https://colab.research.google.com/notebooks/data_table.ipynb>data table notebook</a>'\n",
              "            + ' to learn more about interactive tables.';\n",
              "          element.innerHTML = '';\n",
              "          dataTable['output_type'] = 'display_data';\n",
              "          await google.colab.output.renderOutput(dataTable, element);\n",
              "          const docLink = document.createElement('div');\n",
              "          docLink.innerHTML = docLinkHtml;\n",
              "          element.appendChild(docLink);\n",
              "        }\n",
              "      </script>\n",
              "    </div>\n",
              "  </div>\n",
              "  "
            ]
          },
          "metadata": {},
          "execution_count": 22
        }
      ]
    },
    {
      "cell_type": "code",
      "source": [
        "from tensorflow.keras.preprocessing.image import ImageDataGenerator"
      ],
      "metadata": {
        "id": "UFPLreP6MWP_"
      },
      "execution_count": 23,
      "outputs": []
    },
    {
      "cell_type": "code",
      "source": [
        "##Con esta función tenemos otra forma de cargar los datos. Creamos un objeto con los siguientes parametros. Validation Split parte el dataset (25%)\n",
        "datagen=ImageDataGenerator(rescale=1./255.,validation_split=0.20)"
      ],
      "metadata": {
        "id": "Tmkr5VAdMY_U"
      },
      "execution_count": 24,
      "outputs": []
    },
    {
      "cell_type": "code",
      "source": [
        "##Usamos el método flow_from_dataframe para cargar los datos de entrenamiento. shuffle true va aleatorizar los datos\n",
        "train_generator=datagen.flow_from_dataframe(\n",
        "dataframe=df,\n",
        "x_col=\"images\",\n",
        "y_col=\"class\",\n",
        "subset=\"training\",\n",
        "batch_size=32,\n",
        "seed=5,\n",
        "shuffle=True,\n",
        "class_mode='binary',\n",
        "target_size=(224,224))"
      ],
      "metadata": {
        "colab": {
          "base_uri": "https://localhost:8080/"
        },
        "id": "bnyXJ5c9MbDF",
        "outputId": "589192dc-3ada-45c7-d8a8-969b8296f56d"
      },
      "execution_count": 25,
      "outputs": [
        {
          "output_type": "stream",
          "name": "stdout",
          "text": [
            "Found 2880 validated image filenames belonging to 2 classes.\n"
          ]
        }
      ]
    },
    {
      "cell_type": "code",
      "source": [
        "##Usamos el método flow_from_dataframe para cargar los datos de validación. shuffle false para NO aleatorizar los datos\n",
        "validation_generator=datagen.flow_from_dataframe(\n",
        "dataframe=df,\n",
        "x_col=\"images\",\n",
        "y_col=\"class\",\n",
        "subset=\"validation\",\n",
        "batch_size=32,\n",
        "seed=5,\n",
        "shuffle=False,\n",
        "class_mode='binary',\n",
        "target_size=(224,224))"
      ],
      "metadata": {
        "colab": {
          "base_uri": "https://localhost:8080/"
        },
        "id": "fIjBozTRMv27",
        "outputId": "3b8bc8db-280e-4468-d4e5-59aa6199b6e2"
      },
      "execution_count": 26,
      "outputs": [
        {
          "output_type": "stream",
          "name": "stdout",
          "text": [
            "Found 720 validated image filenames belonging to 2 classes.\n"
          ]
        }
      ]
    },
    {
      "cell_type": "markdown",
      "source": [
        "## Transferencia de aprendizaje (usando otras redes entrenadas)"
      ],
      "metadata": {
        "id": "47T7km4zRgeK"
      }
    },
    {
      "cell_type": "code",
      "source": [
        "from os import makedirs\n",
        "from os import listdir\n",
        "from shutil import copyfile\n",
        "from random import seed\n",
        "from random import random\n",
        "from tensorflow.keras.preprocessing.image import ImageDataGenerator"
      ],
      "metadata": {
        "id": "5tLquUneRd4c"
      },
      "execution_count": 27,
      "outputs": []
    },
    {
      "cell_type": "code",
      "source": [
        "from tensorflow.keras.applications.resnet50 import preprocess_input\n",
        "from tensorflow.keras.applications.resnet50 import ResNet50\n",
        "from tensorflow.keras.preprocessing import image\n",
        "from tensorflow.keras.models import Model\n",
        "from sklearn.model_selection import train_test_split"
      ],
      "metadata": {
        "id": "YW3VNS0mSTRQ"
      },
      "execution_count": 28,
      "outputs": []
    },
    {
      "cell_type": "code",
      "source": [
        "base_modelResNet50=ResNet50(pooling='max', weights='imagenet')"
      ],
      "metadata": {
        "id": "GiIanUinSUyu"
      },
      "execution_count": 29,
      "outputs": []
    },
    {
      "cell_type": "code",
      "source": [
        "tf.keras.utils.plot_model(base_modelResNet50, show_shapes=True)"
      ],
      "metadata": {
        "id": "IrGeB0j4SYwe"
      },
      "execution_count": null,
      "outputs": []
    },
    {
      "cell_type": "code",
      "source": [
        "base_modelResNet50.summary()"
      ],
      "metadata": {
        "id": "4-ZuRWO_Smes"
      },
      "execution_count": null,
      "outputs": []
    },
    {
      "cell_type": "code",
      "source": [
        "base_model=ResNet50(include_top=False, pooling='max', weights='imagenet')"
      ],
      "metadata": {
        "id": "HVqhim_ZSo-r"
      },
      "execution_count": 32,
      "outputs": []
    },
    {
      "cell_type": "code",
      "source": [
        "base_model=ResNet50(include_top=False, pooling='max', weights='imagenet')\n",
        "for layer in base_model.layers:\n",
        "  layer.trainable = False\n",
        "x = base_model.output\n",
        "x = Dense(1024, activation='relu')(x)\n",
        "predictions = Dense(2, activation=\"sigmoid\")(x)\n",
        "model = Model(inputs=base_model.input, outputs=predictions)\n",
        "model.compile(\n",
        "    optimizer=tf.keras.optimizers.Adam(1e-3),\n",
        "    loss=\"binary_crossentropy\",\n",
        "    metrics=[\"accuracy\"]\n",
        ")"
      ],
      "metadata": {
        "id": "o7uwCaApS5ht"
      },
      "execution_count": 33,
      "outputs": []
    },
    {
      "cell_type": "code",
      "source": [
        "model.compile(\n",
        "    optimizer=tf.keras.optimizers.Adam(1e-3),\n",
        "    loss=\"binary_crossentropy\",\n",
        "    metrics=[\"accuracy\"]\n",
        ")"
      ],
      "metadata": {
        "id": "Ycqw7OT1S_JF"
      },
      "execution_count": 34,
      "outputs": []
    },
    {
      "cell_type": "code",
      "source": [
        "epochs=5\n",
        "history = model.fit(train_generator, steps_per_epoch=len(train_generator),\n",
        "                              validation_data=validation_generator, validation_steps=len(validation_generator), \n",
        "                              epochs=epochs, verbose=1)"
      ],
      "metadata": {
        "colab": {
          "base_uri": "https://localhost:8080/"
        },
        "id": "4Ka_jyyBTGiA",
        "outputId": "8dbe5a6e-2e4b-4dd6-f2ba-fd9e6619b67d"
      },
      "execution_count": 36,
      "outputs": [
        {
          "output_type": "stream",
          "name": "stdout",
          "text": [
            "Epoch 1/5\n",
            "90/90 [==============================] - 575s 6s/step - loss: 0.6581 - accuracy: 0.6375 - val_loss: 0.5518 - val_accuracy: 0.7472\n",
            "Epoch 2/5\n",
            "90/90 [==============================] - 576s 6s/step - loss: 0.6541 - accuracy: 0.6462 - val_loss: 0.4251 - val_accuracy: 0.8625\n",
            "Epoch 3/5\n",
            "90/90 [==============================] - 581s 6s/step - loss: 0.5694 - accuracy: 0.6979 - val_loss: 0.3220 - val_accuracy: 0.9361\n",
            "Epoch 4/5\n",
            "90/90 [==============================] - 580s 6s/step - loss: 0.5945 - accuracy: 0.6806 - val_loss: 0.4863 - val_accuracy: 0.8222\n",
            "Epoch 5/5\n",
            "90/90 [==============================] - 580s 6s/step - loss: 0.5546 - accuracy: 0.7035 - val_loss: 0.4508 - val_accuracy: 0.8347\n"
          ]
        }
      ]
    },
    {
      "cell_type": "code",
      "source": [
        "acc=history.history['accuracy']\n",
        "val_acc=history.history['val_accuracy']\n",
        "epoch=range(len(acc))\n",
        "loss=history.history['loss']\n",
        "val_loss=history.history['val_loss']\n",
        "f,ax=plt.subplots(1,2,figsize=(8,4))\n",
        "ax[0].plot(epoch,acc,'blue',label='Training Accuracy')\n",
        "ax[0].plot(epoch,val_acc,'red',label='Validation Accuracy')\n",
        "ax[0].legend()\n",
        "ax[1].plot(epoch,loss,'blue',label='Training Loss')\n",
        "ax[1].plot(epoch,val_loss,'red',label='Validation Loss')\n",
        "ax[1].legend()\n",
        "plt.show()"
      ],
      "metadata": {
        "colab": {
          "base_uri": "https://localhost:8080/",
          "height": 269
        },
        "id": "se--sCRiQMUq",
        "outputId": "b1d7d1e3-0ffc-4537-a3dd-ff4a08131955"
      },
      "execution_count": 37,
      "outputs": [
        {
          "output_type": "display_data",
          "data": {
            "text/plain": [
              "<Figure size 576x288 with 2 Axes>"
            ],
            "image/png": "[encoded data removed]"
          },
          "metadata": {
            "needs_background": "light"
          }
        }
      ]
    },
    {
      "cell_type": "code",
      "source": [
        "from tensorflow.keras.applications.vgg16 import VGG16\n",
        "from tensorflow.keras.applications.vgg16 import preprocess_input\n",
        "from tensorflow.keras.optimizers import SGD"
      ],
      "metadata": {
        "id": "JCUsg3_gQcxK"
      },
      "execution_count": 38,
      "outputs": []
    },
    {
      "cell_type": "code",
      "source": [
        "model = VGG16(include_top=False, input_shape=(224, 224, 3))\n",
        "model.summary()"
      ],
      "metadata": {
        "colab": {
          "base_uri": "https://localhost:8080/"
        },
        "id": "8tJnt3hcRqFk",
        "outputId": "1d033551-6c27-4985-947c-729c06c7e457"
      },
      "execution_count": 44,
      "outputs": [
        {
          "output_type": "stream",
          "name": "stdout",
          "text": [
            "Model: \"vgg16\"\n",
            "_________________________________________________________________\n",
            " Layer (type)                Output Shape              Param #   \n",
            "=================================================================\n",
            " input_5 (InputLayer)        [(None, 224, 224, 3)]     0         \n",
            "                                                                 \n",
            " block1_conv1 (Conv2D)       (None, 224, 224, 64)      1792      \n",
            "                                                                 \n",
            " block1_conv2 (Conv2D)       (None, 224, 224, 64)      36928     \n",
            "                                                                 \n",
            " block1_pool (MaxPooling2D)  (None, 112, 112, 64)      0         \n",
            "                                                                 \n",
            " block2_conv1 (Conv2D)       (None, 112, 112, 128)     73856     \n",
            "                                                                 \n",
            " block2_conv2 (Conv2D)       (None, 112, 112, 128)     147584    \n",
            "                                                                 \n",
            " block2_pool (MaxPooling2D)  (None, 56, 56, 128)       0         \n",
            "                                                                 \n",
            " block3_conv1 (Conv2D)       (None, 56, 56, 256)       295168    \n",
            "                                                                 \n",
            " block3_conv2 (Conv2D)       (None, 56, 56, 256)       590080    \n",
            "                                                                 \n",
            " block3_conv3 (Conv2D)       (None, 56, 56, 256)       590080    \n",
            "                                                                 \n",
            " block3_pool (MaxPooling2D)  (None, 28, 28, 256)       0         \n",
            "                                                                 \n",
            " block4_conv1 (Conv2D)       (None, 28, 28, 512)       1180160   \n",
            "                                                                 \n",
            " block4_conv2 (Conv2D)       (None, 28, 28, 512)       2359808   \n",
            "                                                                 \n",
            " block4_conv3 (Conv2D)       (None, 28, 28, 512)       2359808   \n",
            "                                                                 \n",
            " block4_pool (MaxPooling2D)  (None, 14, 14, 512)       0         \n",
            "                                                                 \n",
            " block5_conv1 (Conv2D)       (None, 14, 14, 512)       2359808   \n",
            "                                                                 \n",
            " block5_conv2 (Conv2D)       (None, 14, 14, 512)       2359808   \n",
            "                                                                 \n",
            " block5_conv3 (Conv2D)       (None, 14, 14, 512)       2359808   \n",
            "                                                                 \n",
            " block5_pool (MaxPooling2D)  (None, 7, 7, 512)         0         \n",
            "                                                                 \n",
            "=================================================================\n",
            "Total params: 14,714,688\n",
            "Trainable params: 14,714,688\n",
            "Non-trainable params: 0\n",
            "_________________________________________________________________\n"
          ]
        }
      ]
    },
    {
      "cell_type": "code",
      "source": [
        "model = VGG16(include_top=False, input_shape=(224, 224, 3))\n",
        "for layer in model.layers:\n",
        "  layer.trainable = False\n",
        "x = Flatten()(model.output)\n",
        "##La capa dense recibe vectores, por eso debe tener una capa flatten anterior\n",
        "x = Dense(128, activation='relu', kernel_initializer='he_uniform')(x)\n",
        "output = Dense(1, activation='sigmoid')(x)\n",
        "\n",
        "model = Model(inputs=model.inputs, outputs=output)\n",
        "\n",
        "opt = SGD(lr=0.001, momentum=0.9)\n",
        "model.compile(optimizer=opt, loss='binary_crossentropy', metrics=['accuracy'])"
      ],
      "metadata": {
        "colab": {
          "base_uri": "https://localhost:8080/"
        },
        "id": "Sy9aQV59QgEN",
        "outputId": "2e564931-a73e-4aed-8b31-06b8bf83dd61"
      },
      "execution_count": 48,
      "outputs": [
        {
          "output_type": "stream",
          "name": "stderr",
          "text": [
            "/usr/local/lib/python3.7/dist-packages/keras/optimizer_v2/gradient_descent.py:102: UserWarning: The `lr` argument is deprecated, use `learning_rate` instead.\n",
            "  super(SGD, self).__init__(name, **kwargs)\n"
          ]
        }
      ]
    },
    {
      "cell_type": "code",
      "source": [
        "epochs=10\n",
        "history = model.fit(train_generator, steps_per_epoch=len(train_generator),\n",
        "                              validation_data=validation_generator, validation_steps=len(validation_generator), \n",
        "                              epochs=5, verbose=1)"
      ],
      "metadata": {
        "colab": {
          "base_uri": "https://localhost:8080/"
        },
        "id": "34Q-VnATRv1M",
        "outputId": "0935705b-d308-4a78-dac9-2f79c08dc9bb"
      },
      "execution_count": null,
      "outputs": [
        {
          "output_type": "stream",
          "name": "stdout",
          "text": [
            "Epoch 1/5\n",
            "55/90 [=================>............] - ETA: 9:34 - loss: 0.6685 - accuracy: 0.6267"
          ]
        }
      ]
    },
    {
      "cell_type": "code",
      "source": [
        "from tensorflow.keras.applications.vgg19 import VGG19"
      ],
      "metadata": {
        "id": "dSX9MiSiTXfd"
      },
      "execution_count": null,
      "outputs": []
    },
    {
      "cell_type": "code",
      "source": [
        "model = VGG19(include_top=False, input_shape=(224, 224, 3))\n",
        "for layer in model.layers:\n",
        "  layer.trainable = False\n",
        "x = Flatten()(model.output)\n",
        "x = Dense(128, activation='relu', kernel_initializer='he_uniform')(x)\n",
        "output = Dense(1, activation='sigmoid')(x)\n",
        "\n",
        "model = Model(inputs=model.inputs, outputs=output)\n",
        "\n",
        "opt = SGD(learning_rate=0.001, momentum=0.9)\n",
        "model.compile(optimizer=opt, loss='binary_crossentropy', metrics=['accuracy'])"
      ],
      "metadata": {
        "id": "jN4EWSB0TYVz"
      },
      "execution_count": null,
      "outputs": []
    },
    {
      "cell_type": "code",
      "source": [
        "history = model.fit(train_generator, steps_per_epoch=len(train_generator),\n",
        "                              validation_data=validation_generator, validation_steps=len(validation_generator), \n",
        "                              epochs=10, verbose=1)"
      ],
      "metadata": {
        "id": "-BqHPUVLTc9P"
      },
      "execution_count": null,
      "outputs": []
    },
    {
      "cell_type": "code",
      "source": [
        ""
      ],
      "metadata": {
        "id": "9Xo0gnnkTkYC"
      },
      "execution_count": null,
      "outputs": []
    }
  ]
}